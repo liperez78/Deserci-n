import pandas as pd
from sklearn.metrics import accuracy_score, confusion_matrix
import seaborn as sns
import matplotlib.pyplot as plt
import Entrenamiento_modelo
