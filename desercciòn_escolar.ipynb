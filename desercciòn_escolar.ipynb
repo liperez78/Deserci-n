import pandas as pd
from sklearn.metrics import accuracy_score, confusion_matrix
import seaborn as sns
import matplotlib.pyplot as plt
import Entrenamiento_modelo


#recibir los datos entrenamos del modelo 
datos_recibidos=Entrenamiento_modelo.modelopipeline()
modelo=datos_recibidos[0]
x_test=datos_recibidos[1]
y_test=datos_recibidos[2]

X,Y=Entrenamiento_modelo.Extraer_Dividir_Datos()
df=pd.DataFrame(X)
df['deserccion']=Y

# Predecir en el conjunto de prueba
y_pred = modelo.predict(x_test)

# Calcular la precisión del modelo
accuracy = accuracy_score(y_test, y_pred)
print("Precisión del modelo:", accuracy)

# Matriz de confusión
conf_matrix = confusion_matrix(y_test, y_pred)
sns.heatmap(conf_matrix, annot=True)


# Calcular la matriz de correlación
correlation_matrix = df.corr()

# Crear la gráfica
plt.figure(figsize=(10, 8))
sns.heatmap(correlation_matrix, annot=True, cmap="coolwarm", fmt=".2f", annot_kws={"size": 10})
plt.title("Matriz de Correlación")
plt.show()
